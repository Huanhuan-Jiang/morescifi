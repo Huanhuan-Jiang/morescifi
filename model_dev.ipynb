{
 "cells": [
  {
   "cell_type": "code",
   "execution_count": 45,
   "metadata": {},
   "outputs": [],
   "source": [
    "import torch\n",
    "import numpy as np\n",
    "import torch.nn as nn\n",
    "import os\n",
    "import math\n",
    "import torch.nn.functional as F "
   ]
  },
  {
   "cell_type": "code",
   "execution_count": 43,
   "metadata": {},
   "outputs": [],
   "source": [
    "class SciFiConfig:\n",
    "    vocab_size: int = 100277  # cl100k-base\n",
    "    n_embd: int = 768  # GPT-2\n",
    "    \n",
    "class MLP(nn.Module):\n",
    "    def __init__(self, config) -> None:\n",
    "        super().__init__()\n",
    "        self.config = config\n",
    "    \n",
    "        self.wte = nn.Embedding(config.vocab_size, config.n_embd)\n",
    "        self.fc = nn.Linear(config.n_embd, 4 * config.n_embd)\n",
    "        self.gelu = nn.GELU()\n",
    "        self.proj = nn.Linear(4 * config.n_embd, config.vocab_size)\n",
    "        \n",
    "        self.apply(self._init_weights)\n",
    "    \n",
    "    def _init_weights(self, module):\n",
    "        if isinstance(module, nn.Linear):\n",
    "            torch.nn.init.xavier_uniform_(module.weight)\n",
    "        elif isinstance(module, nn.Embedding):\n",
    "            torch.nn.init.uniform_(module.weight, -1.0, 1.0)\n",
    "    \n",
    "    def forward(self, idx, targets=None):\n",
    "        #B, T = idx.shape\n",
    "        tok_emb = self.wte(idx) # (B, T, n_embd)\n",
    "        logits = self.proj(self.gelu(self.fc(tok_emb)))\n",
    "        \n",
    "        loss = None\n",
    "        if targets is not None:\n",
    "            loss = F.cross_entropy(logits, targets.view(-1), ignore_index=-1)\n",
    "        return logits, loss"
   ]
  },
  {
   "cell_type": "code",
   "execution_count": 36,
   "metadata": {},
   "outputs": [
    {
     "name": "stdout",
     "output_type": "stream",
     "text": [
      "Encoded text: tensor([ 9906, 12624, 17422,     0])\n",
      "Targets: tensor([12624, 17422,     0,    -1])\n",
      "The vocab_size of cl100k_base is 100277.\n"
     ]
    }
   ],
   "source": [
    "import tiktoken\n",
    "\n",
    "enc = tiktoken.get_encoding('cl100k_base')\n",
    "text = \"Hello scientific fiction!\"\n",
    "tokens = torch.tensor(enc.encode(text))\n",
    "targets = torch.cat((tokens[1:], torch.tensor([-1])), dim=-1)\n",
    "\n",
    "print(f\"Encoded text: {tokens}\")\n",
    "print(f\"Targets: {targets}\")\n",
    "print(f\"The vocab_size of cl100k_base is {enc.n_vocab}.\")"
   ]
  },
  {
   "cell_type": "code",
   "execution_count": 48,
   "metadata": {},
   "outputs": [
    {
     "name": "stdout",
     "output_type": "stream",
     "text": [
      "The shape of pred: torch.Size([4, 100277]).\n",
      "loss=11.5524\n"
     ]
    }
   ],
   "source": [
    "model = MLP(SciFiConfig)\n",
    "logits, loss = model(tokens, targets)\n",
    "print(f'The shape of pred: {logits.shape}.')\n",
    "print(f'loss={loss:.4f}')"
   ]
  },
  {
   "cell_type": "code",
   "execution_count": null,
   "metadata": {},
   "outputs": [],
   "source": []
  }
 ],
 "metadata": {
  "kernelspec": {
   "display_name": "myenv",
   "language": "python",
   "name": "python3"
  },
  "language_info": {
   "codemirror_mode": {
    "name": "ipython",
    "version": 3
   },
   "file_extension": ".py",
   "mimetype": "text/x-python",
   "name": "python",
   "nbconvert_exporter": "python",
   "pygments_lexer": "ipython3",
   "version": "3.12.3"
  }
 },
 "nbformat": 4,
 "nbformat_minor": 2
}
